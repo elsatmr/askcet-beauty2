{
 "cells": [
  {
   "cell_type": "code",
   "execution_count": 1,
   "metadata": {},
   "outputs": [],
   "source": [
    "import pandas as pd\n",
    "import re\n",
    "import string\n",
    "import nltk\n",
    "from nltk.corpus import stopwords\n",
    "# nltk.download(\"stopwords\")"
   ]
  },
  {
   "cell_type": "code",
   "execution_count": 2,
   "metadata": {},
   "outputs": [],
   "source": [
    "df = pd.read_csv(\"../dataset/estee_lauder.csv\")"
   ]
  },
  {
   "cell_type": "code",
   "execution_count": 1,
   "metadata": {},
   "outputs": [
    {
     "ename": "NameError",
     "evalue": "name 'df' is not defined",
     "output_type": "error",
     "traceback": [
      "\u001b[0;31m---------------------------------------------------------------------------\u001b[0m",
      "\u001b[0;31mNameError\u001b[0m                                 Traceback (most recent call last)",
      "Cell \u001b[0;32mIn[1], line 1\u001b[0m\n\u001b[0;32m----> 1\u001b[0m df\u001b[39m.\u001b[39mhead()[\u001b[39m\"\u001b[39m\u001b[39msearch_name\u001b[39m\u001b[39m\"\u001b[39m]\n",
      "\u001b[0;31mNameError\u001b[0m: name 'df' is not defined"
     ]
    }
   ],
   "source": [
    "df.head()[\"search_name\"]"
   ]
  },
  {
   "cell_type": "code",
   "execution_count": 3,
   "metadata": {},
   "outputs": [],
   "source": [
    "english_stopwords = stopwords.words(\"english\")\n",
    "def clean_message(text):\n",
    "    '''\n",
    "    Input:\n",
    "        text: a string containing a text.\n",
    "    Output:\n",
    "        message_cleaned: a processed text. \n",
    "\n",
    "    '''\n",
    "\n",
    "    # Convert words into lower case\n",
    "    text_cleaned = text.lower()\n",
    "    \n",
    "    # Remove links\n",
    "    text_cleaned = re.sub(r\"http\\S+\", \"\", text_cleaned)\n",
    "    text_cleaned = re.sub(r\"www.\\S+\", \"\", text_cleaned)\n",
    "\n",
    "    # Remove punctuations\n",
    "    text_cleaned = \"\".join([char for char in text_cleaned if char not in string.punctuation])\n",
    "\n",
    "    # Remove stopwords\n",
    "    text_cleaned = \" \".join([word for word in re.split('\\W+', text_cleaned) if word not in english_stopwords])\n",
    "\n",
    "    return text_cleaned"
   ]
  },
  {
   "cell_type": "markdown",
   "metadata": {},
   "source": []
  },
  {
   "cell_type": "markdown",
   "metadata": {},
   "source": []
  },
  {
   "cell_type": "code",
   "execution_count": 4,
   "metadata": {},
   "outputs": [],
   "source": [
    "name_rows = [\"brand\", \"name\", \"category\"]\n",
    "df[\"search_name\"] = df[name_rows].apply(lambda x: clean_message(\" \".join(x.astype(\"str\"))), axis=1)"
   ]
  },
  {
   "cell_type": "code",
   "execution_count": null,
   "metadata": {},
   "outputs": [],
   "source": [
    "df[\"details\"] = df[\"details\"].apply(lambda x: x.replace(\"\\n\\n\", \"; \").replace(\"\\n\", \" \").replace(\"  \", \" \").replace(\" ;\", \";\"))\n",
    "df[\"how_to_use\"] = df[\"how_to_use\"].apply(lambda x: x.replace(\"\\n\\n\", \"; \").replace(\"\\n\", \" \").replace(\"  \", \" \").replace(\" ;\", \";\"))"
   ]
  },
  {
   "cell_type": "code",
   "execution_count": 7,
   "metadata": {},
   "outputs": [],
   "source": [
    "df.to_csv(\"../dataset/preprocessed_estee_lauder.csv\", index=False)"
   ]
  },
  {
   "attachments": {},
   "cell_type": "markdown",
   "metadata": {},
   "source": [
    "## View Dataset"
   ]
  },
  {
   "cell_type": "code",
   "execution_count": 2,
   "metadata": {},
   "outputs": [],
   "source": [
    "import pandas as pd\n",
    "df = pd.read_csv(filepath_or_buffer=\"../dataset/preprocessed_estee_lauder.csv\")"
   ]
  },
  {
   "cell_type": "code",
   "execution_count": 3,
   "metadata": {},
   "outputs": [
    {
     "data": {
      "text/plain": [
       "0                 aerin mediterranean honeysuckle perfume\n",
       "1                                aerin amber musk perfume\n",
       "2                            aerin rose de grasse perfume\n",
       "3                                aerin lilac path perfume\n",
       "4                            aerin wild geranium category\n",
       "                              ...                        \n",
       "1045    faced melted mattetallic liquified metallic ma...\n",
       "1046    faced primed poreless face powder setting spra...\n",
       "1047        faced mr right retractable brush face brushes\n",
       "1048            faced damn girl lashes lips set face sets\n",
       "1049    faced melted chocolate liquid matte eye shadow...\n",
       "Name: search_name, Length: 1050, dtype: object"
      ]
     },
     "execution_count": 3,
     "metadata": {},
     "output_type": "execute_result"
    }
   ],
   "source": [
    "df[\"search_name\"]"
   ]
  },
  {
   "cell_type": "code",
   "execution_count": 39,
   "metadata": {},
   "outputs": [
    {
     "data": {
      "text/plain": [
       "CLINIQUE              234\n",
       "TOM FORD              161\n",
       "Bumble and bumble     104\n",
       "Too Faced              81\n",
       "Jo Malone London       76\n",
       "Origins                73\n",
       "Estée Lauder           66\n",
       "Dr. Jart+              54\n",
       "Smashbox               54\n",
       "La Mer                 48\n",
       "GLAMGLOW               33\n",
       "Kilian                 32\n",
       "AERIN                  22\n",
       "Lab Series For Men     12\n",
       "Name: brand, dtype: int64"
      ]
     },
     "execution_count": 39,
     "metadata": {},
     "output_type": "execute_result"
    }
   ],
   "source": [
    "df[\"brand\"].value_counts()"
   ]
  },
  {
   "cell_type": "code",
   "execution_count": 18,
   "metadata": {},
   "outputs": [
    {
     "data": {
      "text/plain": [
       "'Suggested Usage:-Shake well.-Smooth the lightweight- moisturizing liquid makeup over skin. Start at center of face and blend outward.-To select your shade- choose your skin’s intensity level (from ultra-light to very deep) and undertone (cool- neutral- or warm).'"
      ]
     },
     "execution_count": 18,
     "metadata": {},
     "output_type": "execute_result"
    }
   ],
   "source": [
    "df[df[\"brand\"] == \"Estée Lauder\"].iloc[5,:][\"how_to_use\"]"
   ]
  },
  {
   "attachments": {},
   "cell_type": "markdown",
   "metadata": {},
   "source": [
    "## Open AI Summarizer"
   ]
  },
  {
   "cell_type": "code",
   "execution_count": 2,
   "metadata": {},
   "outputs": [],
   "source": [
    "import pandas as pd\n",
    "df = pd.read_csv(filepath_or_buffer=\"../dataset/preprocessed_estee_lauder.csv\")"
   ]
  },
  {
   "cell_type": "code",
   "execution_count": 38,
   "metadata": {},
   "outputs": [],
   "source": [
    "import time"
   ]
  },
  {
   "cell_type": "code",
   "execution_count": 41,
   "metadata": {},
   "outputs": [],
   "source": [
    "time.sleep(2)"
   ]
  },
  {
   "cell_type": "code",
   "execution_count": 69,
   "metadata": {},
   "outputs": [],
   "source": [
    "import os\n",
    "import openai\n",
    "from dotenv import load_dotenv\n",
    "import time\n",
    "import re\n",
    "\n",
    "load_dotenv()\n",
    "openai.api_key = os.getenv(\"OPENAI_API_KEY\")\n",
    "\n",
    "def get_summarized_text(text, type=\"details\"):\n",
    "    time.sleep(2)\n",
    "    response = openai.Completion.create(\n",
    "        model=\"text-davinci-003\",\n",
    "        prompt=f\"Summarize this beauty product {type} in 3 to 5 short sentences so it's easy to understand even for 5th grade:\\n\\n{text}\",\n",
    "        temperature=0.7,\n",
    "        max_tokens=150,\n",
    "        top_p=1.0,\n",
    "        frequency_penalty=0.0,\n",
    "        presence_penalty=0.0\n",
    "    )\n",
    "    return response.choices[0].text"
   ]
  },
  {
   "cell_type": "code",
   "execution_count": 45,
   "metadata": {},
   "outputs": [],
   "source": [
    "details_summarized = []\n",
    "details = list(df[\"details\"])\n",
    "how_to_use_summarized = []\n",
    "how_to_use = list(df[\"how_to_use\"])\n",
    "df_details = pd.DataFrame({\"details_summarized\": [\"\"] * len(details), \"details\": details })\n",
    "df_how_to_use = pd.DataFrame({\"how_to_use_summarized\": [\"\"] * len(how_to_use), \"how_to_use\": how_to_use })"
   ]
  },
  {
   "cell_type": "code",
   "execution_count": 55,
   "metadata": {},
   "outputs": [
    {
     "name": "stdout",
     "output_type": "stream",
     "text": [
      "Working on: 1049/1050\r"
     ]
    }
   ],
   "source": [
    "n = df_details.shape[0]\n",
    "for i, row in df_details.iterrows():\n",
    "    if row[\"details_summarized\"] == \"\":\n",
    "        print(f\"Working on: {i}/{n}\", end=\"\\r\")\n",
    "        row[\"details_summarized\"] = get_summarized_text(row[\"details\"])"
   ]
  },
  {
   "cell_type": "code",
   "execution_count": 74,
   "metadata": {},
   "outputs": [],
   "source": [
    "df[\"details_summarized\"] = df_details[\"details_summarized\"].apply(lambda x: re.sub(\".*\\n\\n\", \"\", x))"
   ]
  },
  {
   "cell_type": "code",
   "execution_count": 75,
   "metadata": {},
   "outputs": [],
   "source": [
    "df.to_csv(\"../dataset/preprocessed_estee_lauder.csv\", index=False)"
   ]
  },
  {
   "cell_type": "code",
   "execution_count": 77,
   "metadata": {},
   "outputs": [
    {
     "name": "stdout",
     "output_type": "stream",
     "text": [
      "Working on: 1049/1050\r"
     ]
    }
   ],
   "source": [
    "n = df_how_to_use.shape[0]\n",
    "for i, row in df_how_to_use.iterrows():\n",
    "    if row[\"how_to_use_summarized\"] == \"\":\n",
    "        if row[\"how_to_use\"] != \"no instructions\":\n",
    "            print(f\"Working on: {i}/{n}\", end=\"\\r\")\n",
    "            row[\"how_to_use_summarized\"] = get_summarized_text(row[\"how_to_use\"], type=\"instructions\")\n",
    "        else:\n",
    "            row[\"how_to_use_summarized\"] = \"no instructions\""
   ]
  },
  {
   "cell_type": "code",
   "execution_count": 79,
   "metadata": {},
   "outputs": [],
   "source": [
    "df[\"how_to_use_summarized\"] = df_how_to_use[\"how_to_use_summarized\"].apply(lambda x: re.sub(\".*\\n\\n\", \"\", x))"
   ]
  },
  {
   "cell_type": "code",
   "execution_count": 84,
   "metadata": {},
   "outputs": [
    {
     "data": {
      "text/html": [
       "<div>\n",
       "<style scoped>\n",
       "    .dataframe tbody tr th:only-of-type {\n",
       "        vertical-align: middle;\n",
       "    }\n",
       "\n",
       "    .dataframe tbody tr th {\n",
       "        vertical-align: top;\n",
       "    }\n",
       "\n",
       "    .dataframe thead th {\n",
       "        text-align: right;\n",
       "    }\n",
       "</style>\n",
       "<table border=\"1\" class=\"dataframe\">\n",
       "  <thead>\n",
       "    <tr style=\"text-align: right;\">\n",
       "      <th></th>\n",
       "      <th>index</th>\n",
       "      <th>brand</th>\n",
       "      <th>category</th>\n",
       "      <th>name</th>\n",
       "      <th>size</th>\n",
       "      <th>rating</th>\n",
       "      <th>number_of_reviews</th>\n",
       "      <th>love</th>\n",
       "      <th>price</th>\n",
       "      <th>value_price</th>\n",
       "      <th>...</th>\n",
       "      <th>details</th>\n",
       "      <th>how_to_use</th>\n",
       "      <th>ingredients</th>\n",
       "      <th>online_only</th>\n",
       "      <th>exclusive</th>\n",
       "      <th>limited_edition</th>\n",
       "      <th>limited_time_offer</th>\n",
       "      <th>search_name</th>\n",
       "      <th>details_summarized</th>\n",
       "      <th>how_to_use_summarized</th>\n",
       "    </tr>\n",
       "  </thead>\n",
       "  <tbody>\n",
       "    <tr>\n",
       "      <th>0</th>\n",
       "      <td>0</td>\n",
       "      <td>AERIN</td>\n",
       "      <td>Perfume</td>\n",
       "      <td>Mediterranean Honeysuckle</td>\n",
       "      <td>1.7 oz/ 50 mL</td>\n",
       "      <td>4.0</td>\n",
       "      <td>91</td>\n",
       "      <td>8000</td>\n",
       "      <td>130.0</td>\n",
       "      <td>130.0</td>\n",
       "      <td>...</td>\n",
       "      <td>Fragrance Family: FloralsScent Type: Fruity Fl...</td>\n",
       "      <td>Suggested Usage:-Fragrance is intensified by t...</td>\n",
       "      <td>Alcohol Denat.- Fragrance- Water- Butylphenyl ...</td>\n",
       "      <td>1</td>\n",
       "      <td>0</td>\n",
       "      <td>0</td>\n",
       "      <td>0</td>\n",
       "      <td>aerin mediterranean honeysuckle perfume</td>\n",
       "      <td>This fragrance is a combination of Italian ber...</td>\n",
       "      <td>Apply fragrance to your body's warm areas, suc...</td>\n",
       "    </tr>\n",
       "    <tr>\n",
       "      <th>1</th>\n",
       "      <td>1</td>\n",
       "      <td>AERIN</td>\n",
       "      <td>Perfume</td>\n",
       "      <td>Amber Musk</td>\n",
       "      <td>1.7 oz/ 50 mL</td>\n",
       "      <td>4.5</td>\n",
       "      <td>77</td>\n",
       "      <td>5600</td>\n",
       "      <td>130.0</td>\n",
       "      <td>130.0</td>\n",
       "      <td>...</td>\n",
       "      <td>Amber musk blends sensual florals- distinctive...</td>\n",
       "      <td>no instructions</td>\n",
       "      <td>Alcohol Denat.- Amber Musk Fragrance- Water- B...</td>\n",
       "      <td>1</td>\n",
       "      <td>0</td>\n",
       "      <td>0</td>\n",
       "      <td>0</td>\n",
       "      <td>aerin amber musk perfume</td>\n",
       "      <td>Amber Musk is a luxurious fragrance that combi...</td>\n",
       "      <td>no instructions</td>\n",
       "    </tr>\n",
       "    <tr>\n",
       "      <th>2</th>\n",
       "      <td>2</td>\n",
       "      <td>AERIN</td>\n",
       "      <td>Perfume</td>\n",
       "      <td>Rose De Grasse</td>\n",
       "      <td>1.7 oz/ 50 mL</td>\n",
       "      <td>5.0</td>\n",
       "      <td>12</td>\n",
       "      <td>1700</td>\n",
       "      <td>235.0</td>\n",
       "      <td>235.0</td>\n",
       "      <td>...</td>\n",
       "      <td>Fragrance Family: Floral; Scent Type: Classic ...</td>\n",
       "      <td>no instructions</td>\n",
       "      <td>unknown</td>\n",
       "      <td>1</td>\n",
       "      <td>0</td>\n",
       "      <td>0</td>\n",
       "      <td>0</td>\n",
       "      <td>aerin rose de grasse perfume</td>\n",
       "      <td>Rose de Grasse is a classic floral beauty prod...</td>\n",
       "      <td>no instructions</td>\n",
       "    </tr>\n",
       "    <tr>\n",
       "      <th>3</th>\n",
       "      <td>3</td>\n",
       "      <td>AERIN</td>\n",
       "      <td>Perfume</td>\n",
       "      <td>Lilac Path</td>\n",
       "      <td>1.7 oz/ 50 mL</td>\n",
       "      <td>4.5</td>\n",
       "      <td>63</td>\n",
       "      <td>3800</td>\n",
       "      <td>130.0</td>\n",
       "      <td>130.0</td>\n",
       "      <td>...</td>\n",
       "      <td>Lilac Path weaves a delicate story of crisp gr...</td>\n",
       "      <td>no instructions</td>\n",
       "      <td>Alcohol Denat.- Lilac Path Fragrance- Water- L...</td>\n",
       "      <td>1</td>\n",
       "      <td>0</td>\n",
       "      <td>0</td>\n",
       "      <td>0</td>\n",
       "      <td>aerin lilac path perfume</td>\n",
       "      <td>Lilac Path is a beauty product with a scent of...</td>\n",
       "      <td>no instructions</td>\n",
       "    </tr>\n",
       "    <tr>\n",
       "      <th>4</th>\n",
       "      <td>4</td>\n",
       "      <td>AERIN</td>\n",
       "      <td>no category</td>\n",
       "      <td>Wild Geranium</td>\n",
       "      <td>0.27 oz/ 8 mL</td>\n",
       "      <td>0.0</td>\n",
       "      <td>0</td>\n",
       "      <td>108</td>\n",
       "      <td>30.0</td>\n",
       "      <td>30.0</td>\n",
       "      <td>...</td>\n",
       "      <td>Fragrance Family: FloralsScent Type: Fresh Flo...</td>\n",
       "      <td>Suggested Usage:-Fragrance is intensified by t...</td>\n",
       "      <td>Alcohol Denat.- Fragrance (Parfum)- Water\\Aqua...</td>\n",
       "      <td>1</td>\n",
       "      <td>0</td>\n",
       "      <td>0</td>\n",
       "      <td>0</td>\n",
       "      <td>aerin wild geranium category</td>\n",
       "      <td>AERIN's Wild Geranium fragrance is a fresh and...</td>\n",
       "      <td>Apply fragrance to your pulse points - wrists,...</td>\n",
       "    </tr>\n",
       "  </tbody>\n",
       "</table>\n",
       "<p>5 rows × 24 columns</p>\n",
       "</div>"
      ],
      "text/plain": [
       "   index  brand     category                       name           size  \\\n",
       "0      0  AERIN      Perfume  Mediterranean Honeysuckle  1.7 oz/ 50 mL   \n",
       "1      1  AERIN      Perfume                 Amber Musk  1.7 oz/ 50 mL   \n",
       "2      2  AERIN      Perfume             Rose De Grasse  1.7 oz/ 50 mL   \n",
       "3      3  AERIN      Perfume                 Lilac Path  1.7 oz/ 50 mL   \n",
       "4      4  AERIN  no category              Wild Geranium  0.27 oz/ 8 mL   \n",
       "\n",
       "   rating  number_of_reviews  love  price  value_price  ...  \\\n",
       "0     4.0                 91  8000  130.0        130.0  ...   \n",
       "1     4.5                 77  5600  130.0        130.0  ...   \n",
       "2     5.0                 12  1700  235.0        235.0  ...   \n",
       "3     4.5                 63  3800  130.0        130.0  ...   \n",
       "4     0.0                  0   108   30.0         30.0  ...   \n",
       "\n",
       "                                             details  \\\n",
       "0  Fragrance Family: FloralsScent Type: Fruity Fl...   \n",
       "1  Amber musk blends sensual florals- distinctive...   \n",
       "2  Fragrance Family: Floral; Scent Type: Classic ...   \n",
       "3  Lilac Path weaves a delicate story of crisp gr...   \n",
       "4  Fragrance Family: FloralsScent Type: Fresh Flo...   \n",
       "\n",
       "                                          how_to_use  \\\n",
       "0  Suggested Usage:-Fragrance is intensified by t...   \n",
       "1                                    no instructions   \n",
       "2                                    no instructions   \n",
       "3                                    no instructions   \n",
       "4  Suggested Usage:-Fragrance is intensified by t...   \n",
       "\n",
       "                                         ingredients online_only exclusive  \\\n",
       "0  Alcohol Denat.- Fragrance- Water- Butylphenyl ...           1         0   \n",
       "1  Alcohol Denat.- Amber Musk Fragrance- Water- B...           1         0   \n",
       "2                                            unknown           1         0   \n",
       "3  Alcohol Denat.- Lilac Path Fragrance- Water- L...           1         0   \n",
       "4  Alcohol Denat.- Fragrance (Parfum)- Water\\Aqua...           1         0   \n",
       "\n",
       "  limited_edition limited_time_offer                              search_name  \\\n",
       "0               0                  0  aerin mediterranean honeysuckle perfume   \n",
       "1               0                  0                 aerin amber musk perfume   \n",
       "2               0                  0             aerin rose de grasse perfume   \n",
       "3               0                  0                 aerin lilac path perfume   \n",
       "4               0                  0             aerin wild geranium category   \n",
       "\n",
       "                                  details_summarized  \\\n",
       "0  This fragrance is a combination of Italian ber...   \n",
       "1  Amber Musk is a luxurious fragrance that combi...   \n",
       "2  Rose de Grasse is a classic floral beauty prod...   \n",
       "3  Lilac Path is a beauty product with a scent of...   \n",
       "4  AERIN's Wild Geranium fragrance is a fresh and...   \n",
       "\n",
       "                               how_to_use_summarized  \n",
       "0  Apply fragrance to your body's warm areas, suc...  \n",
       "1                                    no instructions  \n",
       "2                                    no instructions  \n",
       "3                                    no instructions  \n",
       "4  Apply fragrance to your pulse points - wrists,...  \n",
       "\n",
       "[5 rows x 24 columns]"
      ]
     },
     "execution_count": 84,
     "metadata": {},
     "output_type": "execute_result"
    }
   ],
   "source": [
    "df.head()"
   ]
  },
  {
   "cell_type": "code",
   "execution_count": 85,
   "metadata": {},
   "outputs": [],
   "source": [
    "df.to_csv(\"../dataset/preprocessed_estee_lauder.csv\", index=False)"
   ]
  },
  {
   "cell_type": "markdown",
   "metadata": {},
   "source": [
    "## View Dataset"
   ]
  },
  {
   "cell_type": "code",
   "execution_count": 36,
   "metadata": {},
   "outputs": [],
   "source": [
    "from selenium import webdriver\n",
    "from selenium.webdriver.support.ui import WebDriverWait\n",
    "from selenium.webdriver.support import expected_conditions as EC\n",
    "from selenium.webdriver.common.by import By\n",
    "from selenium.webdriver.chrome.options import Options\n",
    "import pandas as pd\n",
    "df = pd.read_csv(\"../preprocessed_estee_lauder.csv\")\n",
    "CHROMEDRIVER_PATH = \"./chromedriver\"\n",
    "\n",
    "class SeleniumScrapper:\n",
    "\n",
    "    def __init__(self):\n",
    "        self.set_chrome_options()\n",
    "\n",
    "    def set_chrome_options(self):\n",
    "        chrome_options = Options()\n",
    "        prefs = {\"profile.default_content_setting_values.notifications\" : 2}\n",
    "        chrome_options.add_experimental_option(\"prefs\",prefs)\n",
    "        # chrome_options.add_argument('--headless')\n",
    "        # chrome_options.add_argument('--no-sandbox')\n",
    "        # chrome_options.add_argument('--disable-dev-shm-usage')\n",
    "        self.driver = webdriver.Chrome(CHROMEDRIVER_PATH,options=chrome_options)"
   ]
  },
  {
   "cell_type": "code",
   "execution_count": 45,
   "metadata": {},
   "outputs": [
    {
     "name": "stderr",
     "output_type": "stream",
     "text": [
      "/var/folders/29/5gqsxp7n0pq0_m7j85mtnl3c0000gn/T/ipykernel_20723/3196732887.py:22: DeprecationWarning: executable_path has been deprecated, please pass in a Service object\n",
      "  self.driver = webdriver.Chrome(CHROMEDRIVER_PATH,options=chrome_options)\n"
     ]
    }
   ],
   "source": [
    "s = SeleniumScrapper()"
   ]
  },
  {
   "cell_type": "code",
   "execution_count": 46,
   "metadata": {},
   "outputs": [
    {
     "data": {
      "text/plain": [
       "'https://www.sephora.com/productimages/sku/s1794585-main-zoom.jpg?imwidth=164'"
      ]
     },
     "execution_count": 46,
     "metadata": {},
     "output_type": "execute_result"
    }
   ],
   "source": [
    "df[\"image_url\"][0]"
   ]
  },
  {
   "cell_type": "code",
   "execution_count": 47,
   "metadata": {},
   "outputs": [],
   "source": [
    "s.driver.get(df[\"image_url\"][0])"
   ]
  },
  {
   "cell_type": "code",
   "execution_count": 48,
   "metadata": {},
   "outputs": [
    {
     "data": {
      "text/plain": [
       "True"
      ]
     },
     "execution_count": 48,
     "metadata": {},
     "output_type": "execute_result"
    }
   ],
   "source": [
    "s.driver.save_screenshot(\"test.png\")"
   ]
  },
  {
   "cell_type": "code",
   "execution_count": 43,
   "metadata": {},
   "outputs": [
    {
     "ename": "TypeError",
     "evalue": "write() argument must be str, not bytes",
     "output_type": "error",
     "traceback": [
      "\u001b[0;31m---------------------------------------------------------------------------\u001b[0m",
      "\u001b[0;31mTypeError\u001b[0m                                 Traceback (most recent call last)",
      "Cell \u001b[0;32mIn[43], line 3\u001b[0m\n\u001b[1;32m      1\u001b[0m b \u001b[39m=\u001b[39m s\u001b[39m.\u001b[39mdriver\u001b[39m.\u001b[39mget_screenshot_as_png()\n\u001b[1;32m      2\u001b[0m \u001b[39mwith\u001b[39;00m \u001b[39mopen\u001b[39m(\u001b[39m\"\u001b[39m\u001b[39mtest.png\u001b[39m\u001b[39m\"\u001b[39m, \u001b[39m\"\u001b[39m\u001b[39mw\u001b[39m\u001b[39m\"\u001b[39m) \u001b[39mas\u001b[39;00m f:\n\u001b[0;32m----> 3\u001b[0m     f\u001b[39m.\u001b[39;49mwrite(b)\n",
      "\u001b[0;31mTypeError\u001b[0m: write() argument must be str, not bytes"
     ]
    }
   ],
   "source": [
    "b = s.driver.get_screenshot_as_png()\n",
    "with open(\"test.png\", \"w\") as f:\n",
    "    f.write(b)"
   ]
  },
  {
   "cell_type": "code",
   "execution_count": 29,
   "metadata": {},
   "outputs": [
    {
     "ename": "KeyboardInterrupt",
     "evalue": "",
     "output_type": "error",
     "traceback": [
      "\u001b[0;31m---------------------------------------------------------------------------\u001b[0m",
      "\u001b[0;31mKeyboardInterrupt\u001b[0m                         Traceback (most recent call last)",
      "Cell \u001b[0;32mIn[29], line 6\u001b[0m\n\u001b[1;32m      4\u001b[0m opener\u001b[39m.\u001b[39maddheaders \u001b[39m=\u001b[39m [(\u001b[39m'\u001b[39m\u001b[39mUser-agent\u001b[39m\u001b[39m'\u001b[39m, \u001b[39m'\u001b[39m\u001b[39mMozilla/5.0 (Macintosh; Intel Mac OS X 10_9_3) AppleWebKit/537.36 (KHTML, like Gecko) Chrome/35.0.1916.47 Safari/537.36\u001b[39m\u001b[39m'\u001b[39m)]\n\u001b[1;32m      5\u001b[0m urllib\u001b[39m.\u001b[39mrequest\u001b[39m.\u001b[39minstall_opener(opener)\n\u001b[0;32m----> 6\u001b[0m urllib\u001b[39m.\u001b[39;49mrequest\u001b[39m.\u001b[39;49murlretrieve(df[\u001b[39m\"\u001b[39;49m\u001b[39mimage_url\u001b[39;49m\u001b[39m\"\u001b[39;49m][\u001b[39m130\u001b[39;49m], \u001b[39m\"\u001b[39;49m\u001b[39mlocal-filename.jpg\u001b[39;49m\u001b[39m\"\u001b[39;49m)\n",
      "File \u001b[0;32m~/miniconda3/envs/py39/lib/python3.9/urllib/request.py:239\u001b[0m, in \u001b[0;36murlretrieve\u001b[0;34m(url, filename, reporthook, data)\u001b[0m\n\u001b[1;32m    222\u001b[0m \u001b[39m\u001b[39m\u001b[39m\"\"\"\u001b[39;00m\n\u001b[1;32m    223\u001b[0m \u001b[39mRetrieve a URL into a temporary location on disk.\u001b[39;00m\n\u001b[1;32m    224\u001b[0m \n\u001b[0;32m   (...)\u001b[0m\n\u001b[1;32m    235\u001b[0m \u001b[39mdata file as well as the resulting HTTPMessage object.\u001b[39;00m\n\u001b[1;32m    236\u001b[0m \u001b[39m\"\"\"\u001b[39;00m\n\u001b[1;32m    237\u001b[0m url_type, path \u001b[39m=\u001b[39m _splittype(url)\n\u001b[0;32m--> 239\u001b[0m \u001b[39mwith\u001b[39;00m contextlib\u001b[39m.\u001b[39mclosing(urlopen(url, data)) \u001b[39mas\u001b[39;00m fp:\n\u001b[1;32m    240\u001b[0m     headers \u001b[39m=\u001b[39m fp\u001b[39m.\u001b[39minfo()\n\u001b[1;32m    242\u001b[0m     \u001b[39m# Just return the local path and the \"headers\" for file://\u001b[39;00m\n\u001b[1;32m    243\u001b[0m     \u001b[39m# URLs. No sense in performing a copy unless requested.\u001b[39;00m\n",
      "File \u001b[0;32m~/miniconda3/envs/py39/lib/python3.9/urllib/request.py:214\u001b[0m, in \u001b[0;36murlopen\u001b[0;34m(url, data, timeout, cafile, capath, cadefault, context)\u001b[0m\n\u001b[1;32m    212\u001b[0m \u001b[39melse\u001b[39;00m:\n\u001b[1;32m    213\u001b[0m     opener \u001b[39m=\u001b[39m _opener\n\u001b[0;32m--> 214\u001b[0m \u001b[39mreturn\u001b[39;00m opener\u001b[39m.\u001b[39;49mopen(url, data, timeout)\n",
      "File \u001b[0;32m~/miniconda3/envs/py39/lib/python3.9/urllib/request.py:517\u001b[0m, in \u001b[0;36mOpenerDirector.open\u001b[0;34m(self, fullurl, data, timeout)\u001b[0m\n\u001b[1;32m    514\u001b[0m     req \u001b[39m=\u001b[39m meth(req)\n\u001b[1;32m    516\u001b[0m sys\u001b[39m.\u001b[39maudit(\u001b[39m'\u001b[39m\u001b[39murllib.Request\u001b[39m\u001b[39m'\u001b[39m, req\u001b[39m.\u001b[39mfull_url, req\u001b[39m.\u001b[39mdata, req\u001b[39m.\u001b[39mheaders, req\u001b[39m.\u001b[39mget_method())\n\u001b[0;32m--> 517\u001b[0m response \u001b[39m=\u001b[39m \u001b[39mself\u001b[39;49m\u001b[39m.\u001b[39;49m_open(req, data)\n\u001b[1;32m    519\u001b[0m \u001b[39m# post-process response\u001b[39;00m\n\u001b[1;32m    520\u001b[0m meth_name \u001b[39m=\u001b[39m protocol\u001b[39m+\u001b[39m\u001b[39m\"\u001b[39m\u001b[39m_response\u001b[39m\u001b[39m\"\u001b[39m\n",
      "File \u001b[0;32m~/miniconda3/envs/py39/lib/python3.9/urllib/request.py:534\u001b[0m, in \u001b[0;36mOpenerDirector._open\u001b[0;34m(self, req, data)\u001b[0m\n\u001b[1;32m    531\u001b[0m     \u001b[39mreturn\u001b[39;00m result\n\u001b[1;32m    533\u001b[0m protocol \u001b[39m=\u001b[39m req\u001b[39m.\u001b[39mtype\n\u001b[0;32m--> 534\u001b[0m result \u001b[39m=\u001b[39m \u001b[39mself\u001b[39;49m\u001b[39m.\u001b[39;49m_call_chain(\u001b[39mself\u001b[39;49m\u001b[39m.\u001b[39;49mhandle_open, protocol, protocol \u001b[39m+\u001b[39;49m\n\u001b[1;32m    535\u001b[0m                           \u001b[39m'\u001b[39;49m\u001b[39m_open\u001b[39;49m\u001b[39m'\u001b[39;49m, req)\n\u001b[1;32m    536\u001b[0m \u001b[39mif\u001b[39;00m result:\n\u001b[1;32m    537\u001b[0m     \u001b[39mreturn\u001b[39;00m result\n",
      "File \u001b[0;32m~/miniconda3/envs/py39/lib/python3.9/urllib/request.py:494\u001b[0m, in \u001b[0;36mOpenerDirector._call_chain\u001b[0;34m(self, chain, kind, meth_name, *args)\u001b[0m\n\u001b[1;32m    492\u001b[0m \u001b[39mfor\u001b[39;00m handler \u001b[39min\u001b[39;00m handlers:\n\u001b[1;32m    493\u001b[0m     func \u001b[39m=\u001b[39m \u001b[39mgetattr\u001b[39m(handler, meth_name)\n\u001b[0;32m--> 494\u001b[0m     result \u001b[39m=\u001b[39m func(\u001b[39m*\u001b[39;49margs)\n\u001b[1;32m    495\u001b[0m     \u001b[39mif\u001b[39;00m result \u001b[39mis\u001b[39;00m \u001b[39mnot\u001b[39;00m \u001b[39mNone\u001b[39;00m:\n\u001b[1;32m    496\u001b[0m         \u001b[39mreturn\u001b[39;00m result\n",
      "File \u001b[0;32m~/miniconda3/envs/py39/lib/python3.9/urllib/request.py:1389\u001b[0m, in \u001b[0;36mHTTPSHandler.https_open\u001b[0;34m(self, req)\u001b[0m\n\u001b[1;32m   1388\u001b[0m \u001b[39mdef\u001b[39;00m \u001b[39mhttps_open\u001b[39m(\u001b[39mself\u001b[39m, req):\n\u001b[0;32m-> 1389\u001b[0m     \u001b[39mreturn\u001b[39;00m \u001b[39mself\u001b[39;49m\u001b[39m.\u001b[39;49mdo_open(http\u001b[39m.\u001b[39;49mclient\u001b[39m.\u001b[39;49mHTTPSConnection, req,\n\u001b[1;32m   1390\u001b[0m         context\u001b[39m=\u001b[39;49m\u001b[39mself\u001b[39;49m\u001b[39m.\u001b[39;49m_context, check_hostname\u001b[39m=\u001b[39;49m\u001b[39mself\u001b[39;49m\u001b[39m.\u001b[39;49m_check_hostname)\n",
      "File \u001b[0;32m~/miniconda3/envs/py39/lib/python3.9/urllib/request.py:1350\u001b[0m, in \u001b[0;36mAbstractHTTPHandler.do_open\u001b[0;34m(self, http_class, req, **http_conn_args)\u001b[0m\n\u001b[1;32m   1348\u001b[0m     \u001b[39mexcept\u001b[39;00m \u001b[39mOSError\u001b[39;00m \u001b[39mas\u001b[39;00m err: \u001b[39m# timeout error\u001b[39;00m\n\u001b[1;32m   1349\u001b[0m         \u001b[39mraise\u001b[39;00m URLError(err)\n\u001b[0;32m-> 1350\u001b[0m     r \u001b[39m=\u001b[39m h\u001b[39m.\u001b[39;49mgetresponse()\n\u001b[1;32m   1351\u001b[0m \u001b[39mexcept\u001b[39;00m:\n\u001b[1;32m   1352\u001b[0m     h\u001b[39m.\u001b[39mclose()\n",
      "File \u001b[0;32m~/miniconda3/envs/py39/lib/python3.9/http/client.py:1377\u001b[0m, in \u001b[0;36mHTTPConnection.getresponse\u001b[0;34m(self)\u001b[0m\n\u001b[1;32m   1375\u001b[0m \u001b[39mtry\u001b[39;00m:\n\u001b[1;32m   1376\u001b[0m     \u001b[39mtry\u001b[39;00m:\n\u001b[0;32m-> 1377\u001b[0m         response\u001b[39m.\u001b[39;49mbegin()\n\u001b[1;32m   1378\u001b[0m     \u001b[39mexcept\u001b[39;00m \u001b[39mConnectionError\u001b[39;00m:\n\u001b[1;32m   1379\u001b[0m         \u001b[39mself\u001b[39m\u001b[39m.\u001b[39mclose()\n",
      "File \u001b[0;32m~/miniconda3/envs/py39/lib/python3.9/http/client.py:320\u001b[0m, in \u001b[0;36mHTTPResponse.begin\u001b[0;34m(self)\u001b[0m\n\u001b[1;32m    318\u001b[0m \u001b[39m# read until we get a non-100 response\u001b[39;00m\n\u001b[1;32m    319\u001b[0m \u001b[39mwhile\u001b[39;00m \u001b[39mTrue\u001b[39;00m:\n\u001b[0;32m--> 320\u001b[0m     version, status, reason \u001b[39m=\u001b[39m \u001b[39mself\u001b[39;49m\u001b[39m.\u001b[39;49m_read_status()\n\u001b[1;32m    321\u001b[0m     \u001b[39mif\u001b[39;00m status \u001b[39m!=\u001b[39m CONTINUE:\n\u001b[1;32m    322\u001b[0m         \u001b[39mbreak\u001b[39;00m\n",
      "File \u001b[0;32m~/miniconda3/envs/py39/lib/python3.9/http/client.py:281\u001b[0m, in \u001b[0;36mHTTPResponse._read_status\u001b[0;34m(self)\u001b[0m\n\u001b[1;32m    280\u001b[0m \u001b[39mdef\u001b[39;00m \u001b[39m_read_status\u001b[39m(\u001b[39mself\u001b[39m):\n\u001b[0;32m--> 281\u001b[0m     line \u001b[39m=\u001b[39m \u001b[39mstr\u001b[39m(\u001b[39mself\u001b[39;49m\u001b[39m.\u001b[39;49mfp\u001b[39m.\u001b[39;49mreadline(_MAXLINE \u001b[39m+\u001b[39;49m \u001b[39m1\u001b[39;49m), \u001b[39m\"\u001b[39m\u001b[39miso-8859-1\u001b[39m\u001b[39m\"\u001b[39m)\n\u001b[1;32m    282\u001b[0m     \u001b[39mif\u001b[39;00m \u001b[39mlen\u001b[39m(line) \u001b[39m>\u001b[39m _MAXLINE:\n\u001b[1;32m    283\u001b[0m         \u001b[39mraise\u001b[39;00m LineTooLong(\u001b[39m\"\u001b[39m\u001b[39mstatus line\u001b[39m\u001b[39m\"\u001b[39m)\n",
      "File \u001b[0;32m~/miniconda3/envs/py39/lib/python3.9/socket.py:704\u001b[0m, in \u001b[0;36mSocketIO.readinto\u001b[0;34m(self, b)\u001b[0m\n\u001b[1;32m    702\u001b[0m \u001b[39mwhile\u001b[39;00m \u001b[39mTrue\u001b[39;00m:\n\u001b[1;32m    703\u001b[0m     \u001b[39mtry\u001b[39;00m:\n\u001b[0;32m--> 704\u001b[0m         \u001b[39mreturn\u001b[39;00m \u001b[39mself\u001b[39;49m\u001b[39m.\u001b[39;49m_sock\u001b[39m.\u001b[39;49mrecv_into(b)\n\u001b[1;32m    705\u001b[0m     \u001b[39mexcept\u001b[39;00m timeout:\n\u001b[1;32m    706\u001b[0m         \u001b[39mself\u001b[39m\u001b[39m.\u001b[39m_timeout_occurred \u001b[39m=\u001b[39m \u001b[39mTrue\u001b[39;00m\n",
      "File \u001b[0;32m~/miniconda3/envs/py39/lib/python3.9/ssl.py:1242\u001b[0m, in \u001b[0;36mSSLSocket.recv_into\u001b[0;34m(self, buffer, nbytes, flags)\u001b[0m\n\u001b[1;32m   1238\u001b[0m     \u001b[39mif\u001b[39;00m flags \u001b[39m!=\u001b[39m \u001b[39m0\u001b[39m:\n\u001b[1;32m   1239\u001b[0m         \u001b[39mraise\u001b[39;00m \u001b[39mValueError\u001b[39;00m(\n\u001b[1;32m   1240\u001b[0m           \u001b[39m\"\u001b[39m\u001b[39mnon-zero flags not allowed in calls to recv_into() on \u001b[39m\u001b[39m%s\u001b[39;00m\u001b[39m\"\u001b[39m \u001b[39m%\u001b[39m\n\u001b[1;32m   1241\u001b[0m           \u001b[39mself\u001b[39m\u001b[39m.\u001b[39m\u001b[39m__class__\u001b[39m)\n\u001b[0;32m-> 1242\u001b[0m     \u001b[39mreturn\u001b[39;00m \u001b[39mself\u001b[39;49m\u001b[39m.\u001b[39;49mread(nbytes, buffer)\n\u001b[1;32m   1243\u001b[0m \u001b[39melse\u001b[39;00m:\n\u001b[1;32m   1244\u001b[0m     \u001b[39mreturn\u001b[39;00m \u001b[39msuper\u001b[39m()\u001b[39m.\u001b[39mrecv_into(buffer, nbytes, flags)\n",
      "File \u001b[0;32m~/miniconda3/envs/py39/lib/python3.9/ssl.py:1100\u001b[0m, in \u001b[0;36mSSLSocket.read\u001b[0;34m(self, len, buffer)\u001b[0m\n\u001b[1;32m   1098\u001b[0m \u001b[39mtry\u001b[39;00m:\n\u001b[1;32m   1099\u001b[0m     \u001b[39mif\u001b[39;00m buffer \u001b[39mis\u001b[39;00m \u001b[39mnot\u001b[39;00m \u001b[39mNone\u001b[39;00m:\n\u001b[0;32m-> 1100\u001b[0m         \u001b[39mreturn\u001b[39;00m \u001b[39mself\u001b[39;49m\u001b[39m.\u001b[39;49m_sslobj\u001b[39m.\u001b[39;49mread(\u001b[39mlen\u001b[39;49m, buffer)\n\u001b[1;32m   1101\u001b[0m     \u001b[39melse\u001b[39;00m:\n\u001b[1;32m   1102\u001b[0m         \u001b[39mreturn\u001b[39;00m \u001b[39mself\u001b[39m\u001b[39m.\u001b[39m_sslobj\u001b[39m.\u001b[39mread(\u001b[39mlen\u001b[39m)\n",
      "\u001b[0;31mKeyboardInterrupt\u001b[0m: "
     ]
    }
   ],
   "source": [
    "import urllib.request\n",
    "\n",
    "opener = urllib.request.build_opener()\n",
    "opener.addheaders = [('User-agent', 'Mozilla/5.0 (Macintosh; Intel Mac OS X 10_9_3) AppleWebKit/537.36 (KHTML, like Gecko) Chrome/35.0.1916.47 Safari/537.36')]\n",
    "urllib.request.install_opener(opener)\n",
    "urllib.request.urlretrieve(df[\"image_url\"][130], \"local-filename.jpg\")\n"
   ]
  },
  {
   "cell_type": "code",
   "execution_count": 10,
   "metadata": {},
   "outputs": [
    {
     "data": {
      "text/html": [
       "<div>\n",
       "<style scoped>\n",
       "    .dataframe tbody tr th:only-of-type {\n",
       "        vertical-align: middle;\n",
       "    }\n",
       "\n",
       "    .dataframe tbody tr th {\n",
       "        vertical-align: top;\n",
       "    }\n",
       "\n",
       "    .dataframe thead th {\n",
       "        text-align: right;\n",
       "    }\n",
       "</style>\n",
       "<table border=\"1\" class=\"dataframe\">\n",
       "  <thead>\n",
       "    <tr style=\"text-align: right;\">\n",
       "      <th></th>\n",
       "      <th>index</th>\n",
       "      <th>brand</th>\n",
       "      <th>category</th>\n",
       "      <th>name</th>\n",
       "      <th>size</th>\n",
       "      <th>rating</th>\n",
       "      <th>number_of_reviews</th>\n",
       "      <th>love</th>\n",
       "      <th>price</th>\n",
       "      <th>value_price</th>\n",
       "      <th>...</th>\n",
       "      <th>details</th>\n",
       "      <th>how_to_use</th>\n",
       "      <th>ingredients</th>\n",
       "      <th>online_only</th>\n",
       "      <th>exclusive</th>\n",
       "      <th>limited_edition</th>\n",
       "      <th>limited_time_offer</th>\n",
       "      <th>search_name</th>\n",
       "      <th>details_summarized</th>\n",
       "      <th>how_to_use_summarized</th>\n",
       "    </tr>\n",
       "  </thead>\n",
       "  <tbody>\n",
       "    <tr>\n",
       "      <th>0</th>\n",
       "      <td>0</td>\n",
       "      <td>AERIN</td>\n",
       "      <td>Perfume</td>\n",
       "      <td>Mediterranean Honeysuckle</td>\n",
       "      <td>1.7 oz/ 50 mL</td>\n",
       "      <td>4.0</td>\n",
       "      <td>91</td>\n",
       "      <td>8000</td>\n",
       "      <td>130.0</td>\n",
       "      <td>130.0</td>\n",
       "      <td>...</td>\n",
       "      <td>Fragrance Family: FloralsScent Type: Fruity Fl...</td>\n",
       "      <td>Suggested Usage:-Fragrance is intensified by t...</td>\n",
       "      <td>Alcohol Denat.,  Fragrance,  Water,  Butylphen...</td>\n",
       "      <td>1</td>\n",
       "      <td>0</td>\n",
       "      <td>0</td>\n",
       "      <td>0</td>\n",
       "      <td>aerin mediterranean honeysuckle perfume</td>\n",
       "      <td>This fragrance is a combination of Italian ber...</td>\n",
       "      <td>Apply fragrance to your body's warm areas, suc...</td>\n",
       "    </tr>\n",
       "    <tr>\n",
       "      <th>1</th>\n",
       "      <td>1</td>\n",
       "      <td>AERIN</td>\n",
       "      <td>Perfume</td>\n",
       "      <td>Amber Musk</td>\n",
       "      <td>1.7 oz/ 50 mL</td>\n",
       "      <td>4.5</td>\n",
       "      <td>77</td>\n",
       "      <td>5600</td>\n",
       "      <td>130.0</td>\n",
       "      <td>130.0</td>\n",
       "      <td>...</td>\n",
       "      <td>Amber musk blends sensual florals- distinctive...</td>\n",
       "      <td>no instructions</td>\n",
       "      <td>Alcohol Denat.,  Amber Musk Fragrance,  Water,...</td>\n",
       "      <td>1</td>\n",
       "      <td>0</td>\n",
       "      <td>0</td>\n",
       "      <td>0</td>\n",
       "      <td>aerin amber musk perfume</td>\n",
       "      <td>Amber Musk is a luxurious fragrance that combi...</td>\n",
       "      <td>no instructions</td>\n",
       "    </tr>\n",
       "    <tr>\n",
       "      <th>2</th>\n",
       "      <td>2</td>\n",
       "      <td>AERIN</td>\n",
       "      <td>Perfume</td>\n",
       "      <td>Rose De Grasse</td>\n",
       "      <td>1.7 oz/ 50 mL</td>\n",
       "      <td>5.0</td>\n",
       "      <td>12</td>\n",
       "      <td>1700</td>\n",
       "      <td>235.0</td>\n",
       "      <td>235.0</td>\n",
       "      <td>...</td>\n",
       "      <td>Fragrance Family: Floral; Scent Type: Classic ...</td>\n",
       "      <td>no instructions</td>\n",
       "      <td>unknown</td>\n",
       "      <td>1</td>\n",
       "      <td>0</td>\n",
       "      <td>0</td>\n",
       "      <td>0</td>\n",
       "      <td>aerin rose de grasse perfume</td>\n",
       "      <td>Rose de Grasse is a classic floral beauty prod...</td>\n",
       "      <td>no instructions</td>\n",
       "    </tr>\n",
       "    <tr>\n",
       "      <th>3</th>\n",
       "      <td>3</td>\n",
       "      <td>AERIN</td>\n",
       "      <td>Perfume</td>\n",
       "      <td>Lilac Path</td>\n",
       "      <td>1.7 oz/ 50 mL</td>\n",
       "      <td>4.5</td>\n",
       "      <td>63</td>\n",
       "      <td>3800</td>\n",
       "      <td>130.0</td>\n",
       "      <td>130.0</td>\n",
       "      <td>...</td>\n",
       "      <td>Lilac Path weaves a delicate story of crisp gr...</td>\n",
       "      <td>no instructions</td>\n",
       "      <td>Alcohol Denat.,  Lilac Path Fragrance,  Water,...</td>\n",
       "      <td>1</td>\n",
       "      <td>0</td>\n",
       "      <td>0</td>\n",
       "      <td>0</td>\n",
       "      <td>aerin lilac path perfume</td>\n",
       "      <td>Lilac Path is a beauty product with a scent of...</td>\n",
       "      <td>no instructions</td>\n",
       "    </tr>\n",
       "    <tr>\n",
       "      <th>4</th>\n",
       "      <td>4</td>\n",
       "      <td>AERIN</td>\n",
       "      <td>no category</td>\n",
       "      <td>Wild Geranium</td>\n",
       "      <td>0.27 oz/ 8 mL</td>\n",
       "      <td>0.0</td>\n",
       "      <td>0</td>\n",
       "      <td>108</td>\n",
       "      <td>30.0</td>\n",
       "      <td>30.0</td>\n",
       "      <td>...</td>\n",
       "      <td>Fragrance Family: FloralsScent Type: Fresh Flo...</td>\n",
       "      <td>Suggested Usage:-Fragrance is intensified by t...</td>\n",
       "      <td>Alcohol Denat.,  Fragrance (Parfum),  Water\\Aq...</td>\n",
       "      <td>1</td>\n",
       "      <td>0</td>\n",
       "      <td>0</td>\n",
       "      <td>0</td>\n",
       "      <td>aerin wild geranium category</td>\n",
       "      <td>AERIN's Wild Geranium fragrance is a fresh and...</td>\n",
       "      <td>Apply fragrance to your pulse points - wrists,...</td>\n",
       "    </tr>\n",
       "  </tbody>\n",
       "</table>\n",
       "<p>5 rows × 24 columns</p>\n",
       "</div>"
      ],
      "text/plain": [
       "   index  brand     category                       name           size  \\\n",
       "0      0  AERIN      Perfume  Mediterranean Honeysuckle  1.7 oz/ 50 mL   \n",
       "1      1  AERIN      Perfume                 Amber Musk  1.7 oz/ 50 mL   \n",
       "2      2  AERIN      Perfume             Rose De Grasse  1.7 oz/ 50 mL   \n",
       "3      3  AERIN      Perfume                 Lilac Path  1.7 oz/ 50 mL   \n",
       "4      4  AERIN  no category              Wild Geranium  0.27 oz/ 8 mL   \n",
       "\n",
       "   rating  number_of_reviews  love  price  value_price  ...  \\\n",
       "0     4.0                 91  8000  130.0        130.0  ...   \n",
       "1     4.5                 77  5600  130.0        130.0  ...   \n",
       "2     5.0                 12  1700  235.0        235.0  ...   \n",
       "3     4.5                 63  3800  130.0        130.0  ...   \n",
       "4     0.0                  0   108   30.0         30.0  ...   \n",
       "\n",
       "                                             details  \\\n",
       "0  Fragrance Family: FloralsScent Type: Fruity Fl...   \n",
       "1  Amber musk blends sensual florals- distinctive...   \n",
       "2  Fragrance Family: Floral; Scent Type: Classic ...   \n",
       "3  Lilac Path weaves a delicate story of crisp gr...   \n",
       "4  Fragrance Family: FloralsScent Type: Fresh Flo...   \n",
       "\n",
       "                                          how_to_use  \\\n",
       "0  Suggested Usage:-Fragrance is intensified by t...   \n",
       "1                                    no instructions   \n",
       "2                                    no instructions   \n",
       "3                                    no instructions   \n",
       "4  Suggested Usage:-Fragrance is intensified by t...   \n",
       "\n",
       "                                         ingredients online_only exclusive  \\\n",
       "0  Alcohol Denat.,  Fragrance,  Water,  Butylphen...           1         0   \n",
       "1  Alcohol Denat.,  Amber Musk Fragrance,  Water,...           1         0   \n",
       "2                                            unknown           1         0   \n",
       "3  Alcohol Denat.,  Lilac Path Fragrance,  Water,...           1         0   \n",
       "4  Alcohol Denat.,  Fragrance (Parfum),  Water\\Aq...           1         0   \n",
       "\n",
       "  limited_edition limited_time_offer                              search_name  \\\n",
       "0               0                  0  aerin mediterranean honeysuckle perfume   \n",
       "1               0                  0                 aerin amber musk perfume   \n",
       "2               0                  0             aerin rose de grasse perfume   \n",
       "3               0                  0                 aerin lilac path perfume   \n",
       "4               0                  0             aerin wild geranium category   \n",
       "\n",
       "                                  details_summarized  \\\n",
       "0  This fragrance is a combination of Italian ber...   \n",
       "1  Amber Musk is a luxurious fragrance that combi...   \n",
       "2  Rose de Grasse is a classic floral beauty prod...   \n",
       "3  Lilac Path is a beauty product with a scent of...   \n",
       "4  AERIN's Wild Geranium fragrance is a fresh and...   \n",
       "\n",
       "                               how_to_use_summarized  \n",
       "0  Apply fragrance to your body's warm areas, suc...  \n",
       "1                                    no instructions  \n",
       "2                                    no instructions  \n",
       "3                                    no instructions  \n",
       "4  Apply fragrance to your pulse points - wrists,...  \n",
       "\n",
       "[5 rows x 24 columns]"
      ]
     },
     "execution_count": 10,
     "metadata": {},
     "output_type": "execute_result"
    }
   ],
   "source": [
    "df.head()"
   ]
  },
  {
   "cell_type": "code",
   "execution_count": 7,
   "metadata": {},
   "outputs": [
    {
     "name": "stdout",
     "output_type": "stream",
     "text": [
      "Moisture Surge 72-Hour Auto-Replenishing Hydrator\n",
      "Dramatically Different Moisturizing Lotion+\n",
      "Dramatically Different Moisturizing Gel\n",
      "Liquid Facial Soap\n",
      "Even Better Foundation Makeup Broad Spectrum SPF 15\n",
      "Even Better Clinical™ Radical Dark Spot Corrector + Interrupter\n",
      "Acne Solutions Clinical Clearing Kit\n",
      "Clarifying Lotion 2\n",
      "High Impact Mascara\n",
      "Take The Day Off Cleansing Balm\n",
      "Beyond Perfecting Foundation + Concealer\n",
      "Clinique iD™ Custom-Blend Hydrator Collection\n",
      "All About Eyes™ Rich Eye Cream\n",
      "Acne Solutions™ Clinical Clearing Gel\n",
      "Take The Day Off Makeup Remover For Lids, Lashes & Lips\n",
      "Stay-Matte Sheer Pressed Powder\n",
      "All About Eyes\n",
      "Moisture Surge Intense Skin Fortifying Hydrator\n",
      "Lash Power Mascara Long-Wearing Formula\n",
      "Acne Solutions Cleansing Foam\n",
      "Acne Solutions Liquid Makeup Foundation\n",
      "Exfoliating Scrub\n",
      "Quickliner for Eyes Intense\n",
      "Redness Solutions with Probiotic Technology Daily Relief Cream\n",
      "Clarifying Lotion 3\n",
      "Great Skin, Great Deal Set for Dry Combination Skin\n",
      "Superpowder Double Face Makeup Foundation\n",
      "Clinique Smart™ Custom-Repair Serum\n",
      "Clinique's Best-Selling Minis\n",
      "Quickliner for Eyes\n",
      "Stay-Matte Oil-Free Makeup Foundation\n",
      "Clarifying Lotion 2\n",
      "Blended Face Powder and Brush\n",
      "Moisture Surge Overnight Mask\n",
      "Rinse-Off Foaming Cleanser\n",
      "Pretty Easy Liquid Eyelining Pen\n",
      "Moisture Surge CC Cream Hydrating Colour Corrector Broad Spectrum SPF 30\n",
      "Superbalanced Makeup Foundation\n",
      "Acne Solutions Clarifying Lotion\n",
      "High Impact Waterproof Mascara\n",
      "Blackhead Solutions 7 Day Deep Pore Cleanse & Scrub\n",
      "Take The Day Off Makeup Remover For Lids, Lashes & Lips Jumbo\n",
      "Turnaround Overnight Revitalizing Moisturizer\n",
      "Acne Solutions™ BB Cream SPF 40\n",
      "Great Skin, Great Deal Set for Combination Oily Skin\n",
      "Chubby Stick Moisturizing Lip Colour Balm\n",
      "Cheek Pop Blush\n",
      "Dramatically Different Hydrating Jelly\n",
      "Almost Lipstick\n",
      "Pep-Start 2-in-1 Exfoliating Cleanser\n",
      "Clinique iD™:  Moisturizer + Concentrate for Pores & Uneven Texture\n",
      "Clearing Solutions Starter Kit\n",
      "Skin Care Specialists: 72-Hour Hydration\n",
      "Smart Night™ Custom-Repair Moisturizer - Dry Combination\n",
      "Line Smoothing Concealer\n",
      "Superdefense SPF 25 Fatigue + 1st Signs of Age Multi-Correcting Cream\n",
      "Clinique Happy\n",
      "Repairwear Laser Focus Wrinkle Correcting Eye Cream\n",
      "7 Day Scrub Cream Rinse-Off Formula\n",
      "Take The Day Off Cleansing Balm - Home & Away Duo\n",
      "Lash Building Primer\n",
      "Beyond Perfecting Super Concealer Camouflage + 24-Hour Wear\n",
      "Pep-Start Eye Cream\n",
      "Even Better Refresh™ Hydrating and Repairing Foundation\n",
      "Mini Dramatically Different Moisturizing Gel\n",
      "Blackhead Solutions Self-heating Blackhead Extractor\n",
      "Smart Night Custom-Repair Moisturizer - Very Dry to Dry\n",
      "Mini Dramatically Different Moisturizing Lotion+\n",
      "Clinique For Men™ Anti-Age Moisturizer\n",
      "Late Night Line Up Mini Eye and Lip Set\n",
      "Chubby Stick Cheek Colour Balm\n",
      "Chubby Stick Sculpting Contour\n",
      "Take The Day Off Cleansing Oil\n",
      "Moisture Surge™ Lip Hydro-Plump Treatment\n",
      "Take The Day Off Micellar Cleansing Towelettes for Face & Eyes\n",
      "City Block Purifying Charcoal Clay Mask + Scrub\n",
      "Clinique iD™:  Moisturizer + Concentrate for Uneven Skin Tone\n",
      "Clinique iD™:  Moisturizer + Concentrate for Lines & Wrinkles\n",
      "Superfine Liner for Brows\n",
      "Repairwear™ Anti-Gravity Eye Cream\n",
      "Fresh Pressed Daily Booster with Pure Vitamin C 10%\n",
      "Moisture Surge Eye 96-Hour Hydro-Filler Concentrate\n",
      "Rinse-Off Eye Makeup Solvent\n",
      "Redness Solutions Soothing Cleanser\n",
      "Dramatically Different Lipstick Shaping Lip Colour\n",
      "Clinique For Men™ Maximum Hydrator 72-Hour Auto-Replenishing Hydrator\n",
      "All About Eyes Serum De-Puffing Eye Massage\n",
      "Naturally Glossy Mascara\n",
      "Repairwear Laser Focus \n",
      "Clinique Smart Clinical™ MD Multi-Dimensional Age Transformer Revolumize\n",
      "Facial Soap with Dish\n",
      "Repairwear Laser Focus Night Line Smoothing Cream for Very Dry to Dry Combination Skin\n",
      "Even Better™ Glow Light Reflecting Makeup Broad Spectrum SPF 15 Foundation\n",
      "Broad Spectrum SPF 50 Sunscreen Face Cream\n",
      "Mini Take The Day Off Cleansing Balm\n",
      "High Impact Extreme Volume Mascara\n",
      "Moisture Surge Hydrating Supercharged Concentrate\n",
      "Clinique iD™:  Moisturizer + Concentrate for Irritation\n",
      "3-Step Skin Care System For Skin Types 3, 4 Combination Oily to Oily Skins\n",
      "Acne Solutions Acne + Line Correcting Serum\n",
      "Clinique For Men™ Anti-Age Eye Cream\n",
      "Clarifying Lotion 3\n",
      "Lash Doubling Mascara\n",
      "Dramatically Different™ Moisturizing BB-gel\n",
      "Acne Solutions Oil-Control Cleansing Mask\n",
      "Clinique iD™:  Moisturizer + Concentrate for Fatigue\n",
      "Charcoal Face Wash\n",
      "All About Shadow 8-Pan Palette \n",
      "Clarifying Lotion 1\n",
      "Mini Moisture Surge 72-Hour Auto-Replenishing Hydrator\n",
      "3-Step Skin Care System For Skin Type 2 Dry to Dry Combination Skin\n",
      "Repairwear Laser Focus Night Line Smoothing Cream for Combination Oily to Oily Skin\n",
      "Face Scrub\n",
      "Oil Control Mattifying Moisturizer\n",
      "Moisture Surge Face Spray\n",
      "Acne Solutions Cleansing Face and Body Soap\n",
      "Deep Comfort Body Butter\n",
      "Bottom Lash Mascara\n",
      "Beyond Perfecting Powder Foundation + Concealer\n",
      "Sun-Kissed Face Gelee Complexion Multitasker\n",
      "Repairwear Uplifting Firming Cream\n",
      "Moisturizing Lotion\n",
      "Airbrush Concealer Illuminates, Perfects\n",
      "Dramatically Different Moisturizing Cream\n",
      "Acne Solutions™ Cleansing Gel\n",
      "Smart Broad Spectrum SPF 15 Custom-Repair Moisturizer for Dry Combination Skin\n",
      "Broad Spectrum SPF 21 Moisturizer\n",
      "Take The Day Off Makeup Remover For Lids, Lashes & Lips Mini\n",
      "Pop Lip Colour + Primer\n",
      "True Bronze Pressed Powder Bronzer\n",
      "Repairwear™ Intensive Lip Treatment\n",
      "Moisture Surge Overnight Mask Mini\n",
      "Pop Splash™ Lip Gloss\n",
      "Foaming Sonic Facial Soap\n",
      "Moisture Surge Pop™ Triple Lip Balm\n",
      "Superdefense City Block SPF 50+ Daily Energy + Face Protector\n",
      "Quickliner for Lips\n",
      "Chubby in the Nude Foundation Stick\n",
      "Chubby Stick Intense Moisturizing Lip Colour Balm\n",
      "Clarifying Lotion 4\n",
      "Superbalm Moisturizing Gloss\n",
      "City Block Sheer Oil-Free Daily Face Protector SPF 25\n",
      "Even Better Skin Tone Correcting Lotion Broad Spectrum SPF 20\n",
      "Clinique Happy Heart\n",
      "Turnaround Revitalizing Serum\n",
      "Chubby Lash Fattening Mascara\n",
      "Clinique Smart™ Custom-Repair Eye Treatment\n",
      "Chubby Stick Sculpting Highlight\n",
      "Clinique Smart Clinical™ MD Multi-Dimensional Age Transformer Duo Resculpt + Revolumize\n",
      "All About Shadow - Quad\n",
      "Pep-Start HydroBlur Moisturizer\n",
      "Smart Broad Spectrum SPF 15 Custom-Repair Moisturizer for Very Dry to Dry Skin\n",
      "Repairwear Laser Focus Line Smoothing Cream Broad Spectrum SPF 15 for Very Dry to Dry Combination Skin\n",
      "Post-Shave Soother\n",
      "3-Step Introductory Kit For Oilier Skins\n",
      "Pore Refining Solutions Instant Perfector\n",
      "The Best of Black Honey All About Shadow Palette\n",
      "Fresh Faced Glow Set\n",
      "Pore Refining Solutions Charcoal Mask\n",
      "Smart Night Custom-Repair Moisturizer -Combination Oily to Oily\n",
      "Sparkle Skin Body Exfoliator\n",
      "Sonic System Acne Solutions Deep Cleansing Brush Head\n",
      "Exfoliating Tonic\n",
      "Acne Solutions™ Clinical Clearing Gel Mini\n",
      "Calyx\n",
      "All About Shadow - Single\n",
      "Superprimer Face Primer - Universal Face Primer\n",
      "Breakup With Breakouts\n",
      "Age Defense BB Cream Broad Spectrum SPF 30\n",
      "Even Better Eyes Dark Circle Corrector\n",
      "Oil Control Face Wash\n",
      "Soft-Pressed Powder Blusher\n",
      "Clinique Happy for Men\n",
      "Perfectly Happy Set\n",
      "Clinique Smart Clinical™ MD Multi-Dimensional Age Transformer Resculpt\n",
      "Fresh Pressed Renewing Powder Cleanser with Pure Vitamin C\n",
      "Clarifying Lotion 1.0 Twice A Day Exfoliator\n",
      "Pore Refining Solutions Stay-Matte Hydrator\n",
      "High Impact Lash Elevating Mascara\n",
      "Moisture Surge™ Sheertint Hydrator Broad Spectrum SPF 25\n",
      "Pop Matte Lip Colour + Primer\n",
      "Fresh Pressed Clinical™ Daily + Overnight Boosters with Pure Vitamin C 10% + A (Retinol)\n",
      "Clinique For Men™ Maximum Hydrator Eye 96-Hour Hydro-Filler Concentrate\n",
      "Repairwear Uplifting Firming Cream Broad Spectrum SPF 15\n",
      "Mini Girl’s Night Glow Eye and Lip Set\n",
      "Face Wash\n",
      "Broad Spectrum SPF 50 Mineral Sunscreen Fluid for Face\n",
      "Clinique Happy Rollerball\n",
      "Powder Pop™ Flower Highlighter\n",
      "Redness Solutions Instant Relief Mineral Pressed Powder\n",
      "Get The Most Glow\n",
      "Dramatically Different Hydrating Jelly Mini\n",
      "Clinique For Men™ Anti-Aging Starter Kit\n",
      "Quickliner for Lips Intense\n",
      "Purifying Cleansing Brush Head Refill\n",
      "Fresh Pressed 7-day System with Pure Vitamin C\n",
      "Repairwear Sculpting Night Cream\n",
      "Superbalanced Silk Makeup Broad Spectrum 15\n",
      "Redness Solutions Daily Protective Base SPF 15\n",
      "Non-Streak Bronzer\n",
      "Pore Refining Solutions Correcting Serum\n",
      "Powder Pop™ Flower Bronzer\n",
      "High Impact Custom Black Kajal\n",
      "Moisture Surge™ Hydrating Lotion\n",
      "Turnaround Revitalizing Lotion\n",
      "Take The Day Off Cleansing Oil Mini\n",
      "Aromatics Elixir\n",
      "Light Up Your Eyes Eyeshadow Palette Set\n",
      "Clinique For Men™ Water-Gel Starter Kit\n",
      "Superbalm Lip Treatment\n",
      "Broad Spectrum SPF 30 Mineral Sunscreen Lotion for Body\n",
      "Moisture Surge Hydrating Supercharged Concentrate Mini\n",
      "Naturally Gentle Eye Makeup Remover\n",
      "Antiperspirant-Deodorant Stick\n",
      "Clinique For Men Super Energizer™ Anti-Fatigue Depuffing Eye Gel\n",
      "Face Soap With Dish\n",
      "Stay-Matte Universal Blotting Powder\n",
      "Cream Shave\n",
      "7 Day Scrub Cream Rinse-Off Formula Mini\n",
      "Beyond Perfecting Super Concealer Camouflage + 24-Hour Wear - Apricot Color Corrector\n",
      "Superprimer Face Primer - Colour Corrects Redness\n",
      "Detox + Defend\n",
      "Aloe Shave Gel\n",
      "Clinique For Men™ Oil Control Starter Kit\n",
      "Clinique For Men™ Daily Oil Control\n",
      "Pep-Start Daily UV Protector Broad Spectrum SPF 50\n",
      "Clinique For Men™ Daily Intense Hydration\n",
      "Clinique For Men™ Daily Hydration\n",
      "Uplighting Illuminating Powder\n",
      "Pop Liquid Matte Lip Colour + Primer\n",
      "All About Lips\n",
      "Even Better Skin Tone Correcting Moisturizer Broad Spectrum SPF 20\n",
      "Clinique For Men™ Daily Age Repair\n",
      "Repairwear Laser Focus Line Smoothing Cream Broad Spectrum SPF 15 for Combination Oily to Oily Skin\n"
     ]
    }
   ],
   "source": [
    "for i in list(df[df[\"brand\"] == \"CLINIQUE\"][\"name\"]):\n",
    "    print(i)"
   ]
  },
  {
   "attachments": {},
   "cell_type": "markdown",
   "metadata": {},
   "source": [
    "## Correct Ingredients"
   ]
  },
  {
   "cell_type": "code",
   "execution_count": 21,
   "metadata": {},
   "outputs": [],
   "source": [
    "def correct_ingredients(text):\n",
    "    text_token = [ing for ing in text.split(\"-\") if len(ing) < 50]\n",
    "    return \", \".join(text_token)\n",
    "\n",
    "df[\"ingredients\"] = df[\"ingredients\"].apply(lambda x: correct_ingredients(x))"
   ]
  },
  {
   "cell_type": "code",
   "execution_count": 24,
   "metadata": {},
   "outputs": [],
   "source": [
    "df.to_csv(\"../dataset/preprocessed_estee_lauder.csv\", index=False)"
   ]
  },
  {
   "cell_type": "code",
   "execution_count": 26,
   "metadata": {},
   "outputs": [
    {
     "data": {
      "text/plain": [
       "'This fragrance is a combination of Italian bergamot, honeysuckle, grapefruit, lily of the valley, gardenia, and jasmine sambac absolute. It is inspired by the beauty and style of the Mediterranean, and aims to evoke lush flowers and shimmering beaches. It is a light and refreshing scent that will make you feel like you are on a sunny Mediterranean beach.'"
      ]
     },
     "execution_count": 26,
     "metadata": {},
     "output_type": "execute_result"
    }
   ],
   "source": [
    "df[\"details_summarized\"][0]"
   ]
  },
  {
   "cell_type": "code",
   "execution_count": null,
   "metadata": {},
   "outputs": [],
   "source": []
  }
 ],
 "metadata": {
  "kernelspec": {
   "display_name": "venv",
   "language": "python",
   "name": "python3"
  },
  "language_info": {
   "codemirror_mode": {
    "name": "ipython",
    "version": 3
   },
   "file_extension": ".py",
   "mimetype": "text/x-python",
   "name": "python",
   "nbconvert_exporter": "python",
   "pygments_lexer": "ipython3",
   "version": "3.9.16"
  },
  "orig_nbformat": 4,
  "vscode": {
   "interpreter": {
    "hash": "6172dd27908b3fda0a69ccb6af677a00854297f90932fa5f1015c511670f3676"
   }
  }
 },
 "nbformat": 4,
 "nbformat_minor": 2
}
