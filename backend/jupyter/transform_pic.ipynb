{
 "cells": [
  {
   "cell_type": "code",
   "execution_count": 1,
   "metadata": {},
   "outputs": [],
   "source": [
    "import numpy as np\n",
    "\n",
    "# Define the input tensor\n",
    "tensor = np.random.rand(28, 28, 3)\n",
    "\n",
    "# Define the conversion matrix\n",
    "matrix = np.array([[17.8824, 43.5161, 4.11953],\n",
    "                   [3.45565, 27.1554, 3.86714],\n",
    "                   [0.0299566, 0.184309, 1.46709]])"
   ]
  },
  {
   "cell_type": "code",
   "execution_count": 2,
   "metadata": {},
   "outputs": [
    {
     "name": "stdout",
     "output_type": "stream",
     "text": [
      "[[[1.96540364e+01 6.68459810e+00 1.14425797e+00]\n",
      "  [2.58670404e+01 1.57169681e+01 1.17396959e+00]\n",
      "  [3.82293925e+01 2.01315487e+01 6.17435635e-01]\n",
      "  ...\n",
      "  [4.03918723e+01 2.51215554e+01 4.50384363e-01]\n",
      "  [5.75489634e+01 3.10885413e+01 8.36198901e-01]\n",
      "  [3.29538975e+01 2.11526692e+01 1.49685842e+00]]\n",
      "\n",
      " [[4.06702607e+01 1.92831085e+01 6.00477602e-01]\n",
      "  [4.20629361e+01 2.40645055e+01 7.16838785e-01]\n",
      "  [4.65182281e+01 2.64863661e+01 6.54596804e-01]\n",
      "  ...\n",
      "  [1.83938040e+01 6.21014656e+00 2.15000122e-01]\n",
      "  [2.25006210e+01 9.51795723e+00 2.67872531e-01]\n",
      "  [2.90279522e+01 1.86062191e+01 9.45110578e-01]]\n",
      "\n",
      " [[2.10310484e+01 1.11500146e+01 3.35233009e-01]\n",
      "  [5.10563116e+01 2.72432587e+01 8.45731939e-01]\n",
      "  [2.65539019e+01 1.02440579e+01 2.09849587e-01]\n",
      "  ...\n",
      "  [1.81572680e+01 1.00608286e+01 6.41851379e-01]\n",
      "  [4.81265847e+01 2.83069016e+01 7.90041421e-01]\n",
      "  [4.30321895e+01 2.11284987e+01 8.08804435e-01]]\n",
      "\n",
      " ...\n",
      "\n",
      " [[3.90899639e+01 1.93953824e+01 4.23223873e-01]\n",
      "  [1.51653562e+01 8.83068344e+00 1.22764900e+00]\n",
      "  [1.07176942e+01 3.02823356e+00 2.14797283e-01]\n",
      "  ...\n",
      "  [3.02293403e+01 1.58121635e+01 1.03985173e+00]\n",
      "  [3.75903344e+01 2.35425079e+01 4.90609655e-01]\n",
      "  [3.62370612e+01 2.30906965e+01 1.17991385e+00]]\n",
      "\n",
      " [[3.43142765e+01 2.16520384e+01 1.05932678e+00]\n",
      "  [5.49197276e+01 2.92445196e+01 6.67679814e-01]\n",
      "  [4.72668927e+01 2.30755388e+01 1.23880227e+00]\n",
      "  ...\n",
      "  [1.29598430e+01 4.72633146e+00 1.79112829e-01]\n",
      "  [2.17830380e+01 1.25768192e+01 9.56944086e-01]\n",
      "  [4.91450938e+01 2.57786549e+01 6.86251152e-01]]\n",
      "\n",
      " [[1.88915284e+01 4.26555071e+00 4.68894773e-02]\n",
      "  [3.24416950e+01 1.87664491e+01 1.01114740e+00]\n",
      "  [4.69448170e+01 2.36525226e+01 3.15049084e-01]\n",
      "  ...\n",
      "  [2.72990378e+01 1.16504479e+01 1.37109037e+00]\n",
      "  [8.94411018e+00 3.28760082e+00 4.51953306e-01]\n",
      "  [3.73097242e+01 2.42610492e+01 1.45574450e+00]]]\n"
     ]
    }
   ],
   "source": [
    "# Reshape the tensor to a 2D array with shape (28*28, 3)\n",
    "tensor_reshaped = tensor.reshape((28*28, 3))\n",
    "\n",
    "# Multiply the reshaped tensor with the matrix\n",
    "output_reshaped = np.dot(tensor_reshaped, matrix.T)\n",
    "\n",
    "# Reshape the output to the original tensor shape\n",
    "output = output_reshaped.reshape((28, 28, 3))\n",
    "\n",
    "# Print the output\n",
    "print(output)"
   ]
  },
  {
   "cell_type": "code",
   "execution_count": 4,
   "metadata": {},
   "outputs": [],
   "source": [
    "r = np.array([3,5,3,2,3,5,9,8,7])"
   ]
  },
  {
   "cell_type": "code",
   "execution_count": 21,
   "metadata": {},
   "outputs": [
    {
     "name": "stdout",
     "output_type": "stream",
     "text": [
      "0.7^0 x 3\n",
      "0.7^1 x 5\n",
      "0.7^2 x 3\n",
      "0.7^3 x 2\n",
      "0.7^4 x 3\n",
      "0.7^5 x 5\n",
      "0.7^6 x 9\n",
      "0.7^7 x 8\n",
      "0.7^8 x 7\n",
      "\n",
      "0.7^0 x 5\n",
      "0.7^1 x 3\n",
      "0.7^2 x 2\n",
      "0.7^3 x 3\n",
      "0.7^4 x 5\n",
      "0.7^5 x 9\n",
      "0.7^6 x 8\n",
      "0.7^7 x 7\n",
      "\n",
      "\n",
      "\n",
      "\n",
      "\n",
      "\n",
      "\n",
      "0.7^0 x 7\n",
      "\n"
     ]
    }
   ],
   "source": [
    "g = []\n",
    "gama = 0.7\n",
    "for i in range(len(r)):\n",
    "    ret = 0\n",
    "    for j in range(i, len(r)):\n",
    "        if i == (len(r) - 1) or i in [0, 1]:\n",
    "            print(f\"{gama}^{j-i} x {r[j]}\")\n",
    "        ret += (r[j] * (gama**(j-i)))\n",
    "\n",
    "    print(\"\")\n",
    "\n",
    "    g.append(ret)"
   ]
  },
  {
   "cell_type": "code",
   "execution_count": 22,
   "metadata": {},
   "outputs": [
    {
     "data": {
      "text/plain": [
       "[12.337861469999996,\n",
       " 13.339802099999998,\n",
       " 11.914002999999997,\n",
       " 12.734289999999998,\n",
       " 15.3347,\n",
       " 17.621,\n",
       " 18.03,\n",
       " 12.899999999999999,\n",
       " 7.0]"
      ]
     },
     "execution_count": 22,
     "metadata": {},
     "output_type": "execute_result"
    }
   ],
   "source": [
    "g"
   ]
  },
  {
   "cell_type": "code",
   "execution_count": 25,
   "metadata": {},
   "outputs": [],
   "source": [
    "gama = 0.7\n",
    "rewards = r\n",
    "returns = []\n",
    "rewards_r = rewards[::-1]\n",
    "returns.append(rewards_r[0])\n",
    "for i in range(1, len(rewards_r)):\n",
    "    returns.append(rewards_r[i] + (gama * returns[-1]))\n",
    "\n",
    "returns = returns[::-1]"
   ]
  },
  {
   "cell_type": "code",
   "execution_count": 23,
   "metadata": {},
   "outputs": [],
   "source": [
    "g = []\n",
    "gama = 0.7\n",
    "r_r = r[::-1]\n",
    "g.append(r_r[0])\n",
    "for i in range(1, len(r_r)):\n",
    "    g.append(r_r[i] + (gama * g[-1]))\n",
    "\n",
    "g = g[::-1]"
   ]
  },
  {
   "cell_type": "code",
   "execution_count": 24,
   "metadata": {},
   "outputs": [
    {
     "data": {
      "text/plain": [
       "[12.337861469999998,\n",
       " 13.339802099999998,\n",
       " 11.914002999999997,\n",
       " 12.734289999999996,\n",
       " 15.334699999999996,\n",
       " 17.620999999999995,\n",
       " 18.029999999999998,\n",
       " 12.899999999999999,\n",
       " 7]"
      ]
     },
     "execution_count": 24,
     "metadata": {},
     "output_type": "execute_result"
    }
   ],
   "source": [
    "g"
   ]
  },
  {
   "cell_type": "code",
   "execution_count": null,
   "metadata": {},
   "outputs": [],
   "source": []
  }
 ],
 "metadata": {
  "kernelspec": {
   "display_name": "venv",
   "language": "python",
   "name": "python3"
  },
  "language_info": {
   "codemirror_mode": {
    "name": "ipython",
    "version": 3
   },
   "file_extension": ".py",
   "mimetype": "text/x-python",
   "name": "python",
   "nbconvert_exporter": "python",
   "pygments_lexer": "ipython3",
   "version": "3.9.16"
  },
  "orig_nbformat": 4,
  "vscode": {
   "interpreter": {
    "hash": "6172dd27908b3fda0a69ccb6af677a00854297f90932fa5f1015c511670f3676"
   }
  }
 },
 "nbformat": 4,
 "nbformat_minor": 2
}
